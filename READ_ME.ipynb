{
  "nbformat": 4,
  "nbformat_minor": 0,
  "metadata": {
    "colab": {
      "name": "READ ME",
      "provenance": []
    },
    "kernelspec": {
      "name": "python3",
      "display_name": "Python 3"
    },
    "language_info": {
      "name": "python"
    }
  },
  "cells": [
    {
      "cell_type": "markdown",
      "source": [
        "#Dataset\n",
        "\n",
        "The Dataset used is the RITA daset which contains flight data from the US airports and carriers. "
      ],
      "metadata": {
        "id": "X27CdH5B_RIA"
      }
    },
    {
      "cell_type": "markdown",
      "source": [
        "# Summary of Findings\n",
        "\n",
        "\n",
        "\n",
        "*   Southwest Airlines has the most delay hours .\n",
        "*   O'Hare International Airport has the most delay hours across the airports.\n",
        "*   Most of delay hours are LateAircraftDelay\n",
        "\n",
        "\n",
        "\n",
        "\n"
      ],
      "metadata": {
        "id": "-lvgLR3Q_v23"
      }
    },
    {
      "cell_type": "code",
      "source": [
        ""
      ],
      "metadata": {
        "id": "iGR8UtKqBock"
      },
      "execution_count": null,
      "outputs": []
    }
  ]
}